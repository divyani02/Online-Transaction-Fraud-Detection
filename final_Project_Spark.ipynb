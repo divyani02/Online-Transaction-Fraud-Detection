{
  "nbformat": 4,
  "nbformat_minor": 0,
  "metadata": {
    "colab": {
      "provenance": [],
      "collapsed_sections": [
        "J4F8fGvpWRLI",
        "rG0XOUK3Ugon",
        "DNLdOyP4UwoY",
        "1pCAjBNbVQLZ",
        "Mq8sKfZUVxGY",
        "JtNTxF72RXbA",
        "NdxauWH-SAW-",
        "rhI7C8wdSE5B",
        "Xh48_IO0SMYQ",
        "W8L0EmajRuhE",
        "6aibT82HQqvO",
        "mQJkcLPWQnco",
        "rs9UN5siQjPa",
        "JDvt_krxQcXL",
        "uOP1PGmbQ4pw",
        "QicqG1qYSMrQ",
        "kN440ZsSSSsh",
        "GV6kiHRPSYUE",
        "AVelAmuRSbrw",
        "cJ2eDazYSsLR",
        "A3Abj96sSxhA",
        "J69onZc9S7Of"
      ]
    },
    "kernelspec": {
      "name": "python3",
      "display_name": "Python 3"
    },
    "language_info": {
      "name": "python"
    }
  },
  "cells": [
    {
      "cell_type": "markdown",
      "source": [
        "##Building a PYSPARK connection"
      ],
      "metadata": {
        "id": "J4F8fGvpWRLI"
      }
    },
    {
      "cell_type": "code",
      "source": [
        "# install java\n",
        "!apt-get install openjdk-8-jdk-headless -qq > /dev/null\n",
        "\n",
        "# install spark (change the version number if needed)\n",
        "!wget -q https://archive.apache.org/dist/spark/spark-3.0.0/spark-3.0.0-bin-hadoop3.2.tgz\n",
        "\n",
        "# unzip the spark file to the current folder\n",
        "!tar xf spark-3.0.0-bin-hadoop3.2.tgz\n",
        "\n",
        "# set your spark folder to your system path environment. \n",
        "import os\n",
        "os.environ[\"JAVA_HOME\"] = \"/usr/lib/jvm/java-8-openjdk-amd64\"\n",
        "os.environ[\"SPARK_HOME\"] = \"/content/spark-3.0.0-bin-hadoop3.2\"\n",
        "\n",
        "\n",
        "# install findspark using pip\n",
        "!pip install -q findspark"
      ],
      "metadata": {
        "id": "35fcSzvm3DtN"
      },
      "execution_count": null,
      "outputs": []
    },
    {
      "cell_type": "code",
      "source": [
        "!pip install pyspark"
      ],
      "metadata": {
        "id": "hvnLj2bQ3IGP",
        "colab": {
          "base_uri": "https://localhost:8080/"
        },
        "outputId": "ee5d6153-1120-4749-8319-3ec8e8623c1f"
      },
      "execution_count": null,
      "outputs": [
        {
          "output_type": "stream",
          "name": "stdout",
          "text": [
            "Looking in indexes: https://pypi.org/simple, https://us-python.pkg.dev/colab-wheels/public/simple/\n",
            "Collecting pyspark\n",
            "  Downloading pyspark-3.3.2.tar.gz (281.4 MB)\n",
            "\u001b[2K     \u001b[90m━━━━━━━━━━━━━━━━━━━━━━━━━━━━━━━━━━━━━━━\u001b[0m \u001b[32m281.4/281.4 MB\u001b[0m \u001b[31m4.3 MB/s\u001b[0m eta \u001b[36m0:00:00\u001b[0m\n",
            "\u001b[?25h  Preparing metadata (setup.py) ... \u001b[?25l\u001b[?25hdone\n",
            "Collecting py4j==0.10.9.5\n",
            "  Downloading py4j-0.10.9.5-py2.py3-none-any.whl (199 kB)\n",
            "\u001b[2K     \u001b[90m━━━━━━━━━━━━━━━━━━━━━━━━━━━━━━━━━━━━━━\u001b[0m \u001b[32m199.7/199.7 KB\u001b[0m \u001b[31m21.0 MB/s\u001b[0m eta \u001b[36m0:00:00\u001b[0m\n",
            "\u001b[?25hBuilding wheels for collected packages: pyspark\n",
            "  Building wheel for pyspark (setup.py) ... \u001b[?25l\u001b[?25hdone\n",
            "  Created wheel for pyspark: filename=pyspark-3.3.2-py2.py3-none-any.whl size=281824025 sha256=32353b1353ee71f6e41cdc56a8e62789e9aaae78564062418df9779e11231ac5\n",
            "  Stored in directory: /root/.cache/pip/wheels/6c/e3/9b/0525ce8a69478916513509d43693511463c6468db0de237c86\n",
            "Successfully built pyspark\n",
            "Installing collected packages: py4j, pyspark\n",
            "Successfully installed py4j-0.10.9.5 pyspark-3.3.2\n"
          ]
        }
      ]
    },
    {
      "cell_type": "code",
      "source": [
        "import findspark\n",
        "findspark.init()"
      ],
      "metadata": {
        "id": "qW6Apcxy3KyG"
      },
      "execution_count": null,
      "outputs": []
    },
    {
      "cell_type": "code",
      "source": [
        "from pyspark.sql import SparkSession\n",
        "spark = SparkSession.builder\\\n",
        "        .master(\"local\")\\\n",
        "        .appName(\"Colab\")\\\n",
        "        .config('spark.ui.port', '4050')\\\n",
        "        .getOrCreate()"
      ],
      "metadata": {
        "id": "Ul__Lzei3Npt"
      },
      "execution_count": null,
      "outputs": []
    },
    {
      "cell_type": "code",
      "source": [
        "df = spark.createDataFrame([(1, \"John\"), (2, \"Jane\"), (3, \"Smith\")], [\"id\", \"name\"])\n",
        "df.show()"
      ],
      "metadata": {
        "id": "hhhO0jrm3TGP",
        "colab": {
          "base_uri": "https://localhost:8080/"
        },
        "outputId": "a48f0af9-217a-4533-94b6-d71ebf5936cd"
      },
      "execution_count": null,
      "outputs": [
        {
          "output_type": "stream",
          "name": "stdout",
          "text": [
            "+---+-----+\n",
            "| id| name|\n",
            "+---+-----+\n",
            "|  1| John|\n",
            "|  2| Jane|\n",
            "|  3|Smith|\n",
            "+---+-----+\n",
            "\n"
          ]
        }
      ]
    },
    {
      "cell_type": "code",
      "source": [
        "rdd = df.rdd\n",
        "rdd.collect()"
      ],
      "metadata": {
        "id": "hqXQDVmC3W2W",
        "colab": {
          "base_uri": "https://localhost:8080/"
        },
        "outputId": "6f4e2e9a-af3e-436c-9e13-93ef4d3685f4"
      },
      "execution_count": null,
      "outputs": [
        {
          "output_type": "execute_result",
          "data": {
            "text/plain": [
              "[Row(id=1, name='John'), Row(id=2, name='Jane'), Row(id=3, name='Smith')]"
            ]
          },
          "metadata": {},
          "execution_count": 7
        }
      ]
    },
    {
      "cell_type": "code",
      "source": [
        "rdd.count()"
      ],
      "metadata": {
        "colab": {
          "base_uri": "https://localhost:8080/"
        },
        "id": "9qvPzGOktoLY",
        "outputId": "63e34fa2-e07b-4832-a857-b2395be59915"
      },
      "execution_count": null,
      "outputs": [
        {
          "output_type": "execute_result",
          "data": {
            "text/plain": [
              "3"
            ]
          },
          "metadata": {},
          "execution_count": 8
        }
      ]
    },
    {
      "cell_type": "markdown",
      "source": [
        "##Creating a SparkSession"
      ],
      "metadata": {
        "id": "rG0XOUK3Ugon"
      }
    },
    {
      "cell_type": "code",
      "source": [
        "# create a SparkSession\n",
        "spark = SparkSession.builder.appName(\"RDD Example\").getOrCreate()\n",
        "\n",
        "# create an RDD with some data\n",
        "data = [1, 2, 3, 4, 5]\n",
        "rdd = spark.sparkContext.parallelize(data)\n",
        "\n",
        "# perform some transformations on the RDD\n",
        "squared_rdd = rdd.map(lambda x: x**2)\n",
        "\n",
        "# retrieve the results\n",
        "result = squared_rdd.collect()\n",
        "\n",
        "# print the results\n",
        "print(result)"
      ],
      "metadata": {
        "id": "RjS6XUjd3Z6N",
        "colab": {
          "base_uri": "https://localhost:8080/"
        },
        "outputId": "08c80475-f9d7-4a3c-f0e8-b4b686379dd0"
      },
      "execution_count": null,
      "outputs": [
        {
          "output_type": "stream",
          "name": "stdout",
          "text": [
            "[1, 4, 9, 16, 25]\n"
          ]
        }
      ]
    },
    {
      "cell_type": "markdown",
      "source": [
        "##Mounting Google Drive in a Colab notebook"
      ],
      "metadata": {
        "id": "yLq1Bm1DUPSK"
      }
    },
    {
      "cell_type": "code",
      "source": [
        "# from google.colab import files\n",
        "# uploaded = files.upload()"
      ],
      "metadata": {
        "id": "SjiKVQpy3c6X"
      },
      "execution_count": null,
      "outputs": []
    },
    {
      "cell_type": "code",
      "source": [
        "rdd1 = spark.sparkContext.parallelize([(1,2),(2,1),(2,2)])\n",
        "rdd2 = spark.sparkContext.parallelize([(2,5),(3,1)])\n",
        "a = rdd1.collect()\n",
        "b = rdd2.collect()\n",
        "print(a,b)"
      ],
      "metadata": {
        "id": "V-F2Vqz43fsF",
        "colab": {
          "base_uri": "https://localhost:8080/"
        },
        "outputId": "958f3034-ede7-46c9-f85a-40acd35c2ee1"
      },
      "execution_count": null,
      "outputs": [
        {
          "output_type": "stream",
          "name": "stdout",
          "text": [
            "[(1, 2), (2, 1), (2, 2)] [(2, 5), (3, 1)]\n"
          ]
        }
      ]
    },
    {
      "cell_type": "markdown",
      "source": [
        "##Creating a SparkContext object (sc)"
      ],
      "metadata": {
        "id": "DNLdOyP4UwoY"
      }
    },
    {
      "cell_type": "code",
      "source": [
        "# from pyspark import SparkContext, SparkConf\n",
        "# conf = SparkConf().setAppName(\"Fraudulent Transactions Analysis\")\n",
        "\n",
        "# Create a SparkContext object\n",
        "# sc = SparkContext(conf=conf)"
      ],
      "metadata": {
        "id": "JSp9d6y93lCb"
      },
      "execution_count": null,
      "outputs": []
    },
    {
      "cell_type": "code",
      "source": [
        "from pyspark import SparkContext, SparkConf\n",
        "conf = SparkConf().setAppName(\"Fraudulent Transactions Analysis\")\n",
        "sc = SparkContext.getOrCreate(conf=conf)"
      ],
      "metadata": {
        "id": "-mXvzMyx3qr1"
      },
      "execution_count": null,
      "outputs": []
    },
    {
      "cell_type": "markdown",
      "source": [
        "##Loading a dataset into RDD"
      ],
      "metadata": {
        "id": "1pCAjBNbVQLZ"
      }
    },
    {
      "cell_type": "code",
      "source": [
        "from google.colab import drive\n",
        "drive.mount('/content/drive')"
      ],
      "metadata": {
        "colab": {
          "base_uri": "https://localhost:8080/"
        },
        "id": "mIoONPzJHopU",
        "outputId": "de6ae6ce-98a0-45a8-c790-5654fa3b1ecf"
      },
      "execution_count": null,
      "outputs": [
        {
          "output_type": "stream",
          "name": "stdout",
          "text": [
            "Mounted at /content/drive\n"
          ]
        }
      ]
    },
    {
      "cell_type": "code",
      "source": [
        "dataset = sc.textFile(\"/content/drive/MyDrive/project/PS_20174392719_1491204439457_log.csv\")"
      ],
      "metadata": {
        "id": "C91NBUDQ3tjv"
      },
      "execution_count": null,
      "outputs": []
    },
    {
      "cell_type": "code",
      "source": [
        "#eliminate=dataset.filter(lambda line: line != header )"
      ],
      "metadata": {
        "id": "SPPmB8u1u9RA"
      },
      "execution_count": null,
      "outputs": []
    },
    {
      "cell_type": "code",
      "source": [
        "transactions = dataset.map(lambda line: line.split(\",\"))"
      ],
      "metadata": {
        "id": "8gvLB_VU3xs-"
      },
      "execution_count": null,
      "outputs": []
    },
    {
      "cell_type": "code",
      "source": [
        "transactions.count()"
      ],
      "metadata": {
        "id": "o2d1ok5Y30dw",
        "colab": {
          "base_uri": "https://localhost:8080/"
        },
        "outputId": "451fd9ad-0352-4a28-ec88-8380ac1d4908"
      },
      "execution_count": null,
      "outputs": [
        {
          "output_type": "execute_result",
          "data": {
            "text/plain": [
              "6362621"
            ]
          },
          "metadata": {},
          "execution_count": 18
        }
      ]
    },
    {
      "cell_type": "code",
      "source": [
        "transactions.take(5)"
      ],
      "metadata": {
        "id": "vbqC1eFb33Vd",
        "colab": {
          "base_uri": "https://localhost:8080/"
        },
        "outputId": "9734b7b6-d606-4b78-b8cc-4156d942e127"
      },
      "execution_count": null,
      "outputs": [
        {
          "output_type": "execute_result",
          "data": {
            "text/plain": [
              "[['step',\n",
              "  'type',\n",
              "  'amount',\n",
              "  'nameOrig',\n",
              "  'oldbalanceOrg',\n",
              "  'newbalanceOrig',\n",
              "  'nameDest',\n",
              "  'oldbalanceDest',\n",
              "  'newbalanceDest',\n",
              "  'isFraud',\n",
              "  'isFlaggedFraud'],\n",
              " ['1',\n",
              "  'PAYMENT',\n",
              "  '9839.64',\n",
              "  'C1231006815',\n",
              "  '170136.0',\n",
              "  '160296.36',\n",
              "  'M1979787155',\n",
              "  '0.0',\n",
              "  '0.0',\n",
              "  '0',\n",
              "  '0'],\n",
              " ['1',\n",
              "  'PAYMENT',\n",
              "  '1864.28',\n",
              "  'C1666544295',\n",
              "  '21249.0',\n",
              "  '19384.72',\n",
              "  'M2044282225',\n",
              "  '0.0',\n",
              "  '0.0',\n",
              "  '0',\n",
              "  '0'],\n",
              " ['1',\n",
              "  'TRANSFER',\n",
              "  '181.0',\n",
              "  'C1305486145',\n",
              "  '181.0',\n",
              "  '0.0',\n",
              "  'C553264065',\n",
              "  '0.0',\n",
              "  '0.0',\n",
              "  '1',\n",
              "  '0'],\n",
              " ['1',\n",
              "  'CASH_OUT',\n",
              "  '181.0',\n",
              "  'C840083671',\n",
              "  '181.0',\n",
              "  '0.0',\n",
              "  'C38997010',\n",
              "  '21182.0',\n",
              "  '0.0',\n",
              "  '1',\n",
              "  '0']]"
            ]
          },
          "metadata": {},
          "execution_count": 19
        }
      ]
    },
    {
      "cell_type": "code",
      "source": [
        "header = transactions.first()"
      ],
      "metadata": {
        "id": "MU3xQy13ThQE"
      },
      "execution_count": null,
      "outputs": []
    },
    {
      "cell_type": "code",
      "source": [
        "new_rdd = transactions.filter(lambda x: x != header)"
      ],
      "metadata": {
        "id": "bfzazGbTTnX0"
      },
      "execution_count": null,
      "outputs": []
    },
    {
      "cell_type": "code",
      "source": [
        "new_rdd.take(5)"
      ],
      "metadata": {
        "colab": {
          "base_uri": "https://localhost:8080/"
        },
        "id": "W5Jz1WCVTvbP",
        "outputId": "cf1b0ee4-c16d-4eaa-87b0-a5d6cadd79df"
      },
      "execution_count": null,
      "outputs": [
        {
          "output_type": "execute_result",
          "data": {
            "text/plain": [
              "[['1',\n",
              "  'PAYMENT',\n",
              "  '9839.64',\n",
              "  'C1231006815',\n",
              "  '170136.0',\n",
              "  '160296.36',\n",
              "  'M1979787155',\n",
              "  '0.0',\n",
              "  '0.0',\n",
              "  '0',\n",
              "  '0'],\n",
              " ['1',\n",
              "  'PAYMENT',\n",
              "  '1864.28',\n",
              "  'C1666544295',\n",
              "  '21249.0',\n",
              "  '19384.72',\n",
              "  'M2044282225',\n",
              "  '0.0',\n",
              "  '0.0',\n",
              "  '0',\n",
              "  '0'],\n",
              " ['1',\n",
              "  'TRANSFER',\n",
              "  '181.0',\n",
              "  'C1305486145',\n",
              "  '181.0',\n",
              "  '0.0',\n",
              "  'C553264065',\n",
              "  '0.0',\n",
              "  '0.0',\n",
              "  '1',\n",
              "  '0'],\n",
              " ['1',\n",
              "  'CASH_OUT',\n",
              "  '181.0',\n",
              "  'C840083671',\n",
              "  '181.0',\n",
              "  '0.0',\n",
              "  'C38997010',\n",
              "  '21182.0',\n",
              "  '0.0',\n",
              "  '1',\n",
              "  '0'],\n",
              " ['1',\n",
              "  'PAYMENT',\n",
              "  '11668.14',\n",
              "  'C2048537720',\n",
              "  '41554.0',\n",
              "  '29885.86',\n",
              "  'M1230701703',\n",
              "  '0.0',\n",
              "  '0.0',\n",
              "  '0',\n",
              "  '0']]"
            ]
          },
          "metadata": {},
          "execution_count": 22
        }
      ]
    },
    {
      "cell_type": "code",
      "source": [
        "dataset.take(5)"
      ],
      "metadata": {
        "id": "RLGr-UWg352H",
        "colab": {
          "base_uri": "https://localhost:8080/"
        },
        "outputId": "805adce6-4890-4381-eacc-60584e335c3b"
      },
      "execution_count": null,
      "outputs": [
        {
          "output_type": "execute_result",
          "data": {
            "text/plain": [
              "['step,type,amount,nameOrig,oldbalanceOrg,newbalanceOrig,nameDest,oldbalanceDest,newbalanceDest,isFraud,isFlaggedFraud',\n",
              " '1,PAYMENT,9839.64,C1231006815,170136.0,160296.36,M1979787155,0.0,0.0,0,0',\n",
              " '1,PAYMENT,1864.28,C1666544295,21249.0,19384.72,M2044282225,0.0,0.0,0,0',\n",
              " '1,TRANSFER,181.0,C1305486145,181.0,0.0,C553264065,0.0,0.0,1,0',\n",
              " '1,CASH_OUT,181.0,C840083671,181.0,0.0,C38997010,21182.0,0.0,1,0']"
            ]
          },
          "metadata": {},
          "execution_count": 23
        }
      ]
    },
    {
      "cell_type": "markdown",
      "source": [
        "###Creating new RDD with datatype"
      ],
      "metadata": {
        "id": "kQ_XAn-hLWpY"
      }
    },
    {
      "cell_type": "code",
      "source": [
        "header = dataset.first()\n"
      ],
      "metadata": {
        "id": "zfH3zAXuKccx"
      },
      "execution_count": null,
      "outputs": []
    },
    {
      "cell_type": "code",
      "source": [
        "rdd = dataset.filter(lambda row: row != header)\n",
        "rdd = rdd.map(lambda row: row.split(\",\"))"
      ],
      "metadata": {
        "id": "vFMnCwUoKq3d"
      },
      "execution_count": null,
      "outputs": []
    },
    {
      "cell_type": "markdown",
      "source": [
        "#SPARK-SQL "
      ],
      "metadata": {
        "id": "JtNTxF72RXbA"
      }
    },
    {
      "cell_type": "code",
      "source": [
        "from pyspark.sql.types import StructType, StringType, IntegerType, DoubleType, LongType"
      ],
      "metadata": {
        "id": "dINqKflD4p1s"
      },
      "execution_count": null,
      "outputs": []
    },
    {
      "cell_type": "code",
      "source": [
        "schema2 = StructType().add(\"step\",IntegerType(),True).add(\"type\",StringType(),True).add(\"amount\",DoubleType(),True).add(\"origin\",StringType(),True).add(\"sender_old_balance\",DoubleType(),True).add(\"sender_new_balance\",DoubleType(),True).add(\"destination\",StringType(),True).add(\"receiver_old_balance\",DoubleType(),True).add(\"receiver_new_balance\",DoubleType(),True).add(\"isfraud\",IntegerType(),True).add(\"isFlaggedFraud\",IntegerType(),True)"
      ],
      "metadata": {
        "id": "JoOM20Ka4vvO"
      },
      "execution_count": null,
      "outputs": []
    },
    {
      "cell_type": "code",
      "source": [
        "df_with_schema2 = spark.read.format(\"csv\").option(\"header\", \"True\").schema(schema2).load(\"/content/drive/MyDrive/project/PS_20174392719_1491204439457_log.csv\")"
      ],
      "metadata": {
        "id": "nnptOaJx4zJn"
      },
      "execution_count": null,
      "outputs": []
    },
    {
      "cell_type": "code",
      "source": [
        "df_with_schema2.registerTempTable(\"Online_fraud\")"
      ],
      "metadata": {
        "id": "S3-uM2T34176"
      },
      "execution_count": null,
      "outputs": []
    },
    {
      "cell_type": "code",
      "source": [
        "q=spark.sql('select * from Online_fraud limit 10')\n",
        "q.show()"
      ],
      "metadata": {
        "id": "XDz9GBtJ44vt",
        "colab": {
          "base_uri": "https://localhost:8080/"
        },
        "outputId": "9aaa74fa-6b56-489c-d006-1a56a32c57fd"
      },
      "execution_count": null,
      "outputs": [
        {
          "output_type": "stream",
          "name": "stdout",
          "text": [
            "+----+--------+--------+-----------+------------------+------------------+-----------+--------------------+--------------------+-------+--------------+\n",
            "|step|    type|  amount|     origin|sender_old_balance|sender_new_balance|destination|receiver_old_balance|receiver_new_balance|isfraud|isFlaggedFraud|\n",
            "+----+--------+--------+-----------+------------------+------------------+-----------+--------------------+--------------------+-------+--------------+\n",
            "|   1| PAYMENT| 9839.64|C1231006815|          170136.0|         160296.36|M1979787155|                 0.0|                 0.0|      0|             0|\n",
            "|   1| PAYMENT| 1864.28|C1666544295|           21249.0|          19384.72|M2044282225|                 0.0|                 0.0|      0|             0|\n",
            "|   1|TRANSFER|   181.0|C1305486145|             181.0|               0.0| C553264065|                 0.0|                 0.0|      1|             0|\n",
            "|   1|CASH_OUT|   181.0| C840083671|             181.0|               0.0|  C38997010|             21182.0|                 0.0|      1|             0|\n",
            "|   1| PAYMENT|11668.14|C2048537720|           41554.0|          29885.86|M1230701703|                 0.0|                 0.0|      0|             0|\n",
            "|   1| PAYMENT| 7817.71|  C90045638|           53860.0|          46042.29| M573487274|                 0.0|                 0.0|      0|             0|\n",
            "|   1| PAYMENT| 7107.77| C154988899|          183195.0|         176087.23| M408069119|                 0.0|                 0.0|      0|             0|\n",
            "|   1| PAYMENT| 7861.64|C1912850431|         176087.23|         168225.59| M633326333|                 0.0|                 0.0|      0|             0|\n",
            "|   1| PAYMENT| 4024.36|C1265012928|            2671.0|               0.0|M1176932104|                 0.0|                 0.0|      0|             0|\n",
            "|   1|   DEBIT| 5337.77| C712410124|           41720.0|          36382.23| C195600860|             41898.0|            40348.79|      0|             0|\n",
            "+----+--------+--------+-----------+------------------+------------------+-----------+--------------------+--------------------+-------+--------------+\n",
            "\n"
          ]
        }
      ]
    },
    {
      "cell_type": "code",
      "source": [
        "rdd = rdd.map(lambda row: (int(row[0]), row[1], float(row[2]), row[3], float(row[4]), float(row[5]), row[6], float(row[7]), float(row[8]), int(row[9]), int(row[10])))"
      ],
      "metadata": {
        "id": "KbVWZJEVLNUm"
      },
      "execution_count": null,
      "outputs": []
    },
    {
      "cell_type": "code",
      "source": [
        "data_types = rdd.map(lambda x: type(x)).distinct().collect()\n",
        "print(data_types)"
      ],
      "metadata": {
        "colab": {
          "base_uri": "https://localhost:8080/"
        },
        "id": "xdxxgA8NN7aL",
        "outputId": "8343fd08-97ef-4053-a9f3-91cd15c02012"
      },
      "execution_count": null,
      "outputs": [
        {
          "output_type": "stream",
          "name": "stdout",
          "text": [
            "[<class 'tuple'>]\n"
          ]
        }
      ]
    },
    {
      "cell_type": "markdown",
      "source": [
        "##SPARK-SQL---trial queries"
      ],
      "metadata": {
        "id": "Mq8sKfZUVxGY"
      }
    },
    {
      "cell_type": "code",
      "source": [
        "df = spark.read.format(\"csv\").option(\"header\", \"true\").load(\"/content/drive/MyDrive/project/PS_20174392719_1491204439457_log.csv\")"
      ],
      "metadata": {
        "id": "D65wqHaz4NSD"
      },
      "execution_count": null,
      "outputs": []
    },
    {
      "cell_type": "code",
      "source": [
        "df.printSchema()"
      ],
      "metadata": {
        "colab": {
          "base_uri": "https://localhost:8080/"
        },
        "id": "JLyWAdO2Q7PB",
        "outputId": "34ce8578-199f-4aa7-994b-b944181c5935"
      },
      "execution_count": null,
      "outputs": [
        {
          "output_type": "stream",
          "name": "stdout",
          "text": [
            "root\n",
            " |-- step: string (nullable = true)\n",
            " |-- type: string (nullable = true)\n",
            " |-- amount: string (nullable = true)\n",
            " |-- nameOrig: string (nullable = true)\n",
            " |-- oldbalanceOrg: string (nullable = true)\n",
            " |-- newbalanceOrig: string (nullable = true)\n",
            " |-- nameDest: string (nullable = true)\n",
            " |-- oldbalanceDest: string (nullable = true)\n",
            " |-- newbalanceDest: string (nullable = true)\n",
            " |-- isFraud: string (nullable = true)\n",
            " |-- isFlaggedFraud: string (nullable = true)\n",
            "\n"
          ]
        }
      ]
    },
    {
      "cell_type": "code",
      "source": [
        "df.show(5)"
      ],
      "metadata": {
        "colab": {
          "base_uri": "https://localhost:8080/"
        },
        "id": "BIXVXQy2RdDp",
        "outputId": "2d7d5c43-79ea-4ddc-94b1-5d5ff1f5493a"
      },
      "execution_count": null,
      "outputs": [
        {
          "output_type": "stream",
          "name": "stdout",
          "text": [
            "+----+--------+--------+-----------+-------------+--------------+-----------+--------------+--------------+-------+--------------+\n",
            "|step|    type|  amount|   nameOrig|oldbalanceOrg|newbalanceOrig|   nameDest|oldbalanceDest|newbalanceDest|isFraud|isFlaggedFraud|\n",
            "+----+--------+--------+-----------+-------------+--------------+-----------+--------------+--------------+-------+--------------+\n",
            "|   1| PAYMENT| 9839.64|C1231006815|     170136.0|     160296.36|M1979787155|           0.0|           0.0|      0|             0|\n",
            "|   1| PAYMENT| 1864.28|C1666544295|      21249.0|      19384.72|M2044282225|           0.0|           0.0|      0|             0|\n",
            "|   1|TRANSFER|   181.0|C1305486145|        181.0|           0.0| C553264065|           0.0|           0.0|      1|             0|\n",
            "|   1|CASH_OUT|   181.0| C840083671|        181.0|           0.0|  C38997010|       21182.0|           0.0|      1|             0|\n",
            "|   1| PAYMENT|11668.14|C2048537720|      41554.0|      29885.86|M1230701703|           0.0|           0.0|      0|             0|\n",
            "+----+--------+--------+-----------+-------------+--------------+-----------+--------------+--------------+-------+--------------+\n",
            "only showing top 5 rows\n",
            "\n"
          ]
        }
      ]
    },
    {
      "cell_type": "markdown",
      "source": [
        "#PANDAS"
      ],
      "metadata": {
        "id": "feUavCwaRgiI"
      }
    },
    {
      "cell_type": "code",
      "source": [
        "import pandas as pd\n",
        "df = pd.read_csv('/content/drive/MyDrive/project/PS_20174392719_1491204439457_log.csv')"
      ],
      "metadata": {
        "id": "43Ld_5JV2nXb"
      },
      "execution_count": null,
      "outputs": []
    },
    {
      "cell_type": "code",
      "source": [
        "df.head(5)"
      ],
      "metadata": {
        "colab": {
          "base_uri": "https://localhost:8080/"
        },
        "id": "KWRizKxf4GgT",
        "outputId": "16df9e7a-b054-495c-8ae1-a2b743696c27"
      },
      "execution_count": null,
      "outputs": [
        {
          "output_type": "execute_result",
          "data": {
            "text/plain": [
              "   step      type    amount     nameOrig  oldbalanceOrg  newbalanceOrig  \\\n",
              "0     1   PAYMENT   9839.64  C1231006815       170136.0       160296.36   \n",
              "1     1   PAYMENT   1864.28  C1666544295        21249.0        19384.72   \n",
              "2     1  TRANSFER    181.00  C1305486145          181.0            0.00   \n",
              "3     1  CASH_OUT    181.00   C840083671          181.0            0.00   \n",
              "4     1   PAYMENT  11668.14  C2048537720        41554.0        29885.86   \n",
              "\n",
              "      nameDest  oldbalanceDest  newbalanceDest  isFraud  isFlaggedFraud  \n",
              "0  M1979787155             0.0             0.0        0               0  \n",
              "1  M2044282225             0.0             0.0        0               0  \n",
              "2   C553264065             0.0             0.0        1               0  \n",
              "3    C38997010         21182.0             0.0        1               0  \n",
              "4  M1230701703             0.0             0.0        0               0  "
            ],
            "text/html": [
              "\n",
              "  <div id=\"df-754e9b43-0ab8-42ca-9715-4f2150a3b900\">\n",
              "    <div class=\"colab-df-container\">\n",
              "      <div>\n",
              "<style scoped>\n",
              "    .dataframe tbody tr th:only-of-type {\n",
              "        vertical-align: middle;\n",
              "    }\n",
              "\n",
              "    .dataframe tbody tr th {\n",
              "        vertical-align: top;\n",
              "    }\n",
              "\n",
              "    .dataframe thead th {\n",
              "        text-align: right;\n",
              "    }\n",
              "</style>\n",
              "<table border=\"1\" class=\"dataframe\">\n",
              "  <thead>\n",
              "    <tr style=\"text-align: right;\">\n",
              "      <th></th>\n",
              "      <th>step</th>\n",
              "      <th>type</th>\n",
              "      <th>amount</th>\n",
              "      <th>nameOrig</th>\n",
              "      <th>oldbalanceOrg</th>\n",
              "      <th>newbalanceOrig</th>\n",
              "      <th>nameDest</th>\n",
              "      <th>oldbalanceDest</th>\n",
              "      <th>newbalanceDest</th>\n",
              "      <th>isFraud</th>\n",
              "      <th>isFlaggedFraud</th>\n",
              "    </tr>\n",
              "  </thead>\n",
              "  <tbody>\n",
              "    <tr>\n",
              "      <th>0</th>\n",
              "      <td>1</td>\n",
              "      <td>PAYMENT</td>\n",
              "      <td>9839.64</td>\n",
              "      <td>C1231006815</td>\n",
              "      <td>170136.0</td>\n",
              "      <td>160296.36</td>\n",
              "      <td>M1979787155</td>\n",
              "      <td>0.0</td>\n",
              "      <td>0.0</td>\n",
              "      <td>0</td>\n",
              "      <td>0</td>\n",
              "    </tr>\n",
              "    <tr>\n",
              "      <th>1</th>\n",
              "      <td>1</td>\n",
              "      <td>PAYMENT</td>\n",
              "      <td>1864.28</td>\n",
              "      <td>C1666544295</td>\n",
              "      <td>21249.0</td>\n",
              "      <td>19384.72</td>\n",
              "      <td>M2044282225</td>\n",
              "      <td>0.0</td>\n",
              "      <td>0.0</td>\n",
              "      <td>0</td>\n",
              "      <td>0</td>\n",
              "    </tr>\n",
              "    <tr>\n",
              "      <th>2</th>\n",
              "      <td>1</td>\n",
              "      <td>TRANSFER</td>\n",
              "      <td>181.00</td>\n",
              "      <td>C1305486145</td>\n",
              "      <td>181.0</td>\n",
              "      <td>0.00</td>\n",
              "      <td>C553264065</td>\n",
              "      <td>0.0</td>\n",
              "      <td>0.0</td>\n",
              "      <td>1</td>\n",
              "      <td>0</td>\n",
              "    </tr>\n",
              "    <tr>\n",
              "      <th>3</th>\n",
              "      <td>1</td>\n",
              "      <td>CASH_OUT</td>\n",
              "      <td>181.00</td>\n",
              "      <td>C840083671</td>\n",
              "      <td>181.0</td>\n",
              "      <td>0.00</td>\n",
              "      <td>C38997010</td>\n",
              "      <td>21182.0</td>\n",
              "      <td>0.0</td>\n",
              "      <td>1</td>\n",
              "      <td>0</td>\n",
              "    </tr>\n",
              "    <tr>\n",
              "      <th>4</th>\n",
              "      <td>1</td>\n",
              "      <td>PAYMENT</td>\n",
              "      <td>11668.14</td>\n",
              "      <td>C2048537720</td>\n",
              "      <td>41554.0</td>\n",
              "      <td>29885.86</td>\n",
              "      <td>M1230701703</td>\n",
              "      <td>0.0</td>\n",
              "      <td>0.0</td>\n",
              "      <td>0</td>\n",
              "      <td>0</td>\n",
              "    </tr>\n",
              "  </tbody>\n",
              "</table>\n",
              "</div>\n",
              "      <button class=\"colab-df-convert\" onclick=\"convertToInteractive('df-754e9b43-0ab8-42ca-9715-4f2150a3b900')\"\n",
              "              title=\"Convert this dataframe to an interactive table.\"\n",
              "              style=\"display:none;\">\n",
              "        \n",
              "  <svg xmlns=\"http://www.w3.org/2000/svg\" height=\"24px\"viewBox=\"0 0 24 24\"\n",
              "       width=\"24px\">\n",
              "    <path d=\"M0 0h24v24H0V0z\" fill=\"none\"/>\n",
              "    <path d=\"M18.56 5.44l.94 2.06.94-2.06 2.06-.94-2.06-.94-.94-2.06-.94 2.06-2.06.94zm-11 1L8.5 8.5l.94-2.06 2.06-.94-2.06-.94L8.5 2.5l-.94 2.06-2.06.94zm10 10l.94 2.06.94-2.06 2.06-.94-2.06-.94-.94-2.06-.94 2.06-2.06.94z\"/><path d=\"M17.41 7.96l-1.37-1.37c-.4-.4-.92-.59-1.43-.59-.52 0-1.04.2-1.43.59L10.3 9.45l-7.72 7.72c-.78.78-.78 2.05 0 2.83L4 21.41c.39.39.9.59 1.41.59.51 0 1.02-.2 1.41-.59l7.78-7.78 2.81-2.81c.8-.78.8-2.07 0-2.86zM5.41 20L4 18.59l7.72-7.72 1.47 1.35L5.41 20z\"/>\n",
              "  </svg>\n",
              "      </button>\n",
              "      \n",
              "  <style>\n",
              "    .colab-df-container {\n",
              "      display:flex;\n",
              "      flex-wrap:wrap;\n",
              "      gap: 12px;\n",
              "    }\n",
              "\n",
              "    .colab-df-convert {\n",
              "      background-color: #E8F0FE;\n",
              "      border: none;\n",
              "      border-radius: 50%;\n",
              "      cursor: pointer;\n",
              "      display: none;\n",
              "      fill: #1967D2;\n",
              "      height: 32px;\n",
              "      padding: 0 0 0 0;\n",
              "      width: 32px;\n",
              "    }\n",
              "\n",
              "    .colab-df-convert:hover {\n",
              "      background-color: #E2EBFA;\n",
              "      box-shadow: 0px 1px 2px rgba(60, 64, 67, 0.3), 0px 1px 3px 1px rgba(60, 64, 67, 0.15);\n",
              "      fill: #174EA6;\n",
              "    }\n",
              "\n",
              "    [theme=dark] .colab-df-convert {\n",
              "      background-color: #3B4455;\n",
              "      fill: #D2E3FC;\n",
              "    }\n",
              "\n",
              "    [theme=dark] .colab-df-convert:hover {\n",
              "      background-color: #434B5C;\n",
              "      box-shadow: 0px 1px 3px 1px rgba(0, 0, 0, 0.15);\n",
              "      filter: drop-shadow(0px 1px 2px rgba(0, 0, 0, 0.3));\n",
              "      fill: #FFFFFF;\n",
              "    }\n",
              "  </style>\n",
              "\n",
              "      <script>\n",
              "        const buttonEl =\n",
              "          document.querySelector('#df-754e9b43-0ab8-42ca-9715-4f2150a3b900 button.colab-df-convert');\n",
              "        buttonEl.style.display =\n",
              "          google.colab.kernel.accessAllowed ? 'block' : 'none';\n",
              "\n",
              "        async function convertToInteractive(key) {\n",
              "          const element = document.querySelector('#df-754e9b43-0ab8-42ca-9715-4f2150a3b900');\n",
              "          const dataTable =\n",
              "            await google.colab.kernel.invokeFunction('convertToInteractive',\n",
              "                                                     [key], {});\n",
              "          if (!dataTable) return;\n",
              "\n",
              "          const docLinkHtml = 'Like what you see? Visit the ' +\n",
              "            '<a target=\"_blank\" href=https://colab.research.google.com/notebooks/data_table.ipynb>data table notebook</a>'\n",
              "            + ' to learn more about interactive tables.';\n",
              "          element.innerHTML = '';\n",
              "          dataTable['output_type'] = 'display_data';\n",
              "          await google.colab.output.renderOutput(dataTable, element);\n",
              "          const docLink = document.createElement('div');\n",
              "          docLink.innerHTML = docLinkHtml;\n",
              "          element.appendChild(docLink);\n",
              "        }\n",
              "      </script>\n",
              "    </div>\n",
              "  </div>\n",
              "  "
            ]
          },
          "metadata": {},
          "execution_count": 37
        }
      ]
    },
    {
      "cell_type": "code",
      "source": [
        "df.columns"
      ],
      "metadata": {
        "colab": {
          "base_uri": "https://localhost:8080/"
        },
        "id": "uZ6-DgXuU0Tu",
        "outputId": "3026d475-4ad8-425f-847a-f61b21bb4a04"
      },
      "execution_count": null,
      "outputs": [
        {
          "output_type": "execute_result",
          "data": {
            "text/plain": [
              "Index(['step', 'type', 'amount', 'nameOrig', 'oldbalanceOrg', 'newbalanceOrig',\n",
              "       'nameDest', 'oldbalanceDest', 'newbalanceDest', 'isFraud',\n",
              "       'isFlaggedFraud'],\n",
              "      dtype='object')"
            ]
          },
          "metadata": {},
          "execution_count": 38
        }
      ]
    },
    {
      "cell_type": "markdown",
      "source": [
        "#QUEURIES AND ITS SOLUTION IN 3 WAYS"
      ],
      "metadata": {
        "id": "uczbg2HpR1e1"
      }
    },
    {
      "cell_type": "code",
      "source": [
        "# 1.What is the maximum amount that was transferred in a single transaction  from and to  to which account?\n",
        "# 2.What is the maximum amount that was transferred in a single transaction  from and to  to which account in case of fraud as flag?\n",
        "# 3. How many customers initiated transactions that were flagged as fraudulent?\n",
        "# 4. What is the total amount of money lost due to fraudulent activity?\n",
        "# 5.Which type of transaction has the highest percentage of fraudulent and Non-Fraudulent activity?\n",
        "# 6. How many transactions involved customers with negative balances before the transaction?\n",
        "# 7. What is the maximum amount of money transferred in a single transaction that was not flagged as fraudulent?\n",
        "#8. How many transactions were processed in each step?\n",
        "#9 .which name dest is credited with most amount in case of fraud?\n",
        "# 10.top 10 destaccount which has maximum amount in case of fraud ?"
      ],
      "metadata": {
        "id": "dEvTSsPg35z2"
      },
      "execution_count": null,
      "outputs": []
    },
    {
      "cell_type": "markdown",
      "source": [
        "##Q 1.What is the maximum amount that was transferred in a single transaction  from and to  to which account?"
      ],
      "metadata": {
        "id": "grSD6LgLA9Fj"
      }
    },
    {
      "cell_type": "markdown",
      "source": [
        "####Using SparkSQL"
      ],
      "metadata": {
        "id": "lGmSl0T4MYSr"
      }
    },
    {
      "cell_type": "code",
      "source": [
        "q1=spark.sql('select origin,destination,amount as maximum_amt_in_single_trans from Online_fraud order by amount desc limit 1')\n",
        "q1.show()"
      ],
      "metadata": {
        "colab": {
          "base_uri": "https://localhost:8080/"
        },
        "id": "DLgQH_FxBYq6",
        "outputId": "b6769a40-56c5-4c6a-8ea4-2c149db72035"
      },
      "execution_count": null,
      "outputs": [
        {
          "output_type": "stream",
          "name": "stdout",
          "text": [
            "+-----------+-----------+---------------------------+\n",
            "|     origin|destination|maximum_amt_in_single_trans|\n",
            "+-----------+-----------+---------------------------+\n",
            "|C1715283297| C439737079|              9.244551664E7|\n",
            "+-----------+-----------+---------------------------+\n",
            "\n"
          ]
        }
      ]
    },
    {
      "cell_type": "markdown",
      "source": [
        "#### Using RDD"
      ],
      "metadata": {
        "id": "TOtSRzJYdaN3"
      }
    },
    {
      "cell_type": "code",
      "source": [
        "# Sort the RDD by amount in descending order and take the first row\n",
        "max_amount_row = rdd.takeOrdered(1, key=lambda row: -float(row[2]))[0]\n",
        "\n",
        "# Extract the relevant columns from the row\n",
        "origin = max_amount_row[3]\n",
        "destination = max_amount_row[6]\n",
        "max_amount = max_amount_row[2]\n",
        "\n",
        "# Print the result\n",
        "print(f\"Origin: {origin}, Destination: {destination}, Maximum Amount Transferred: {max_amount}\")"
      ],
      "metadata": {
        "id": "X9Zz8Cs2ai7u",
        "colab": {
          "base_uri": "https://localhost:8080/"
        },
        "outputId": "8ca7240f-3190-42b7-87ed-0cd9c56fe538"
      },
      "execution_count": null,
      "outputs": [
        {
          "output_type": "stream",
          "name": "stdout",
          "text": [
            "Origin: C1715283297, Destination: C439737079, Maximum Amount Transferred: 92445516.64\n"
          ]
        }
      ]
    },
    {
      "cell_type": "markdown",
      "source": [
        "####Using Pandas"
      ],
      "metadata": {
        "id": "_V3zgua_MlmH"
      }
    },
    {
      "cell_type": "code",
      "source": [
        "#SOLUTION BY PANDAS DATAFRAME\n",
        "\n",
        "q1 = df[['nameOrig', 'nameDest', 'amount']].sort_values('amount', ascending=False).head(1)\n",
        "q1.columns = ['Origin', 'Destination', 'Maximum Amount Transferred']\n",
        "print(q1)"
      ],
      "metadata": {
        "colab": {
          "base_uri": "https://localhost:8080/"
        },
        "id": "uJfWygQ-Eclg",
        "outputId": "0bcc7be3-6478-4731-ff92-f8ab3fbc8f01"
      },
      "execution_count": null,
      "outputs": [
        {
          "output_type": "stream",
          "name": "stdout",
          "text": [
            "              Origin Destination  Maximum Amount Transferred\n",
            "3686583  C1715283297  C439737079                 92445516.64\n"
          ]
        }
      ]
    },
    {
      "cell_type": "markdown",
      "source": [
        "##Q2.What is the maximum amount that was transferred in a single transaction in case of fraud?"
      ],
      "metadata": {
        "id": "NdxauWH-SAW-"
      }
    },
    {
      "cell_type": "markdown",
      "source": [
        "####USING SPARK-SQL"
      ],
      "metadata": {
        "id": "rhI7C8wdSE5B"
      }
    },
    {
      "cell_type": "code",
      "source": [
        "#Sql Query\n",
        "# 1.What is the maximum amount that was transferred in a single transaction in case of fraud?\n",
        "q1=spark.sql('select amount,origin,destination as maximum_amt_in_single_trans from Online_fraud where isFraud=1 order by amount desc limit 1')\n",
        "q1.show()"
      ],
      "metadata": {
        "id": "v64qW2qb47Cn",
        "colab": {
          "base_uri": "https://localhost:8080/"
        },
        "outputId": "2b68030c-2d0c-4f40-c2de-b0b51321ffa9"
      },
      "execution_count": null,
      "outputs": [
        {
          "output_type": "stream",
          "name": "stdout",
          "text": [
            "+------+--------+---------------------------+\n",
            "|amount|  origin|maximum_amt_in_single_trans|\n",
            "+------+--------+---------------------------+\n",
            "| 1.0E7|C7162498|                 C945327594|\n",
            "+------+--------+---------------------------+\n",
            "\n"
          ]
        }
      ]
    },
    {
      "cell_type": "markdown",
      "source": [
        "####USING PYSPARK"
      ],
      "metadata": {
        "id": "Xh48_IO0SMYQ"
      }
    },
    {
      "cell_type": "code",
      "source": [
        "#in this problem when i used 'transactions' rdd which contains header & i apply max() on ammount field i got the max_amount='ammount'\n",
        "#so to overcome this i have created 'new_rdd' where i exclude the header."
      ],
      "metadata": {
        "id": "m_hib2vBXTvT"
      },
      "execution_count": null,
      "outputs": []
    },
    {
      "cell_type": "code",
      "source": [
        "fraudulent_transactions = rdd.filter(lambda x: x[9] == 1)"
      ],
      "metadata": {
        "id": "BSnfAIfnC9PP"
      },
      "execution_count": null,
      "outputs": []
    },
    {
      "cell_type": "code",
      "source": [
        "max_amount_transferred = fraudulent_transactions.map(lambda x: x[2]).max()"
      ],
      "metadata": {
        "id": "QD-b09pYJYsQ"
      },
      "execution_count": null,
      "outputs": []
    },
    {
      "cell_type": "code",
      "source": [
        "count_of_max_amount_fraudulent_transactions = fraudulent_transactions.filter(lambda x: x[2] == max_amount_transferred).count()"
      ],
      "metadata": {
        "id": "kWGWnj7rJkxg"
      },
      "execution_count": null,
      "outputs": []
    },
    {
      "cell_type": "code",
      "source": [
        "print(\"Maximum amount transferred in a single transaction:\", max_amount_transferred)"
      ],
      "metadata": {
        "colab": {
          "base_uri": "https://localhost:8080/"
        },
        "id": "BEi-MGAaKqDK",
        "outputId": "49ef8817-c373-40a9-b801-e58c13cf407a"
      },
      "execution_count": null,
      "outputs": [
        {
          "output_type": "stream",
          "name": "stdout",
          "text": [
            "Maximum amount transferred in a single transaction: 10000000.0\n"
          ]
        }
      ]
    },
    {
      "cell_type": "code",
      "source": [
        "print(\"Number of fraudulent transactions with the maximum amount transferred:\", count_of_max_amount_fraudulent_transactions)"
      ],
      "metadata": {
        "colab": {
          "base_uri": "https://localhost:8080/"
        },
        "id": "Yvm3iGIYK6CG",
        "outputId": "0a5c2deb-590b-404b-b230-521bb85dbd0f"
      },
      "execution_count": null,
      "outputs": [
        {
          "output_type": "stream",
          "name": "stdout",
          "text": [
            "Number of fraudulent transactions with the maximum amount transferred: 287\n"
          ]
        }
      ]
    },
    {
      "cell_type": "markdown",
      "source": [
        "####USING PANDAS"
      ],
      "metadata": {
        "id": "W8L0EmajRuhE"
      }
    },
    {
      "cell_type": "code",
      "source": [
        "max_amount_transferred = df[df['isFraud']==1]\n",
        "max_amount_transferred = max_amount_transferred['amount'].max()\n",
        "max_amount_transferred"
      ],
      "metadata": {
        "id": "nuccRBEI29ir",
        "colab": {
          "base_uri": "https://localhost:8080/"
        },
        "outputId": "33b14917-9020-4861-a4a9-0c5420937519"
      },
      "execution_count": null,
      "outputs": [
        {
          "output_type": "execute_result",
          "data": {
            "text/plain": [
              "10000000.0"
            ]
          },
          "metadata": {},
          "execution_count": 50
        }
      ]
    },
    {
      "cell_type": "code",
      "source": [
        "max_amount_transferred = df[df['isFraud']==1]\n",
        "max_amount_transferred = max_amount_transferred[['nameOrig', 'nameDest', 'amount']].sort_values('amount', ascending=False).head(1)\n",
        "max_amount_transferred"
      ],
      "metadata": {
        "colab": {
          "base_uri": "https://localhost:8080/"
        },
        "id": "CeIaxozJZ7Mn",
        "outputId": "12b96fa7-3c6f-4648-f5f9-32510daddacf"
      },
      "execution_count": null,
      "outputs": [
        {
          "output_type": "execute_result",
          "data": {
            "text/plain": [
              "            nameOrig     nameDest      amount\n",
              "3760283  C1214015158  C2110157840  10000000.0"
            ],
            "text/html": [
              "\n",
              "  <div id=\"df-2bf7d4f9-4a76-4829-9f8e-f22f53e6d443\">\n",
              "    <div class=\"colab-df-container\">\n",
              "      <div>\n",
              "<style scoped>\n",
              "    .dataframe tbody tr th:only-of-type {\n",
              "        vertical-align: middle;\n",
              "    }\n",
              "\n",
              "    .dataframe tbody tr th {\n",
              "        vertical-align: top;\n",
              "    }\n",
              "\n",
              "    .dataframe thead th {\n",
              "        text-align: right;\n",
              "    }\n",
              "</style>\n",
              "<table border=\"1\" class=\"dataframe\">\n",
              "  <thead>\n",
              "    <tr style=\"text-align: right;\">\n",
              "      <th></th>\n",
              "      <th>nameOrig</th>\n",
              "      <th>nameDest</th>\n",
              "      <th>amount</th>\n",
              "    </tr>\n",
              "  </thead>\n",
              "  <tbody>\n",
              "    <tr>\n",
              "      <th>3760283</th>\n",
              "      <td>C1214015158</td>\n",
              "      <td>C2110157840</td>\n",
              "      <td>10000000.0</td>\n",
              "    </tr>\n",
              "  </tbody>\n",
              "</table>\n",
              "</div>\n",
              "      <button class=\"colab-df-convert\" onclick=\"convertToInteractive('df-2bf7d4f9-4a76-4829-9f8e-f22f53e6d443')\"\n",
              "              title=\"Convert this dataframe to an interactive table.\"\n",
              "              style=\"display:none;\">\n",
              "        \n",
              "  <svg xmlns=\"http://www.w3.org/2000/svg\" height=\"24px\"viewBox=\"0 0 24 24\"\n",
              "       width=\"24px\">\n",
              "    <path d=\"M0 0h24v24H0V0z\" fill=\"none\"/>\n",
              "    <path d=\"M18.56 5.44l.94 2.06.94-2.06 2.06-.94-2.06-.94-.94-2.06-.94 2.06-2.06.94zm-11 1L8.5 8.5l.94-2.06 2.06-.94-2.06-.94L8.5 2.5l-.94 2.06-2.06.94zm10 10l.94 2.06.94-2.06 2.06-.94-2.06-.94-.94-2.06-.94 2.06-2.06.94z\"/><path d=\"M17.41 7.96l-1.37-1.37c-.4-.4-.92-.59-1.43-.59-.52 0-1.04.2-1.43.59L10.3 9.45l-7.72 7.72c-.78.78-.78 2.05 0 2.83L4 21.41c.39.39.9.59 1.41.59.51 0 1.02-.2 1.41-.59l7.78-7.78 2.81-2.81c.8-.78.8-2.07 0-2.86zM5.41 20L4 18.59l7.72-7.72 1.47 1.35L5.41 20z\"/>\n",
              "  </svg>\n",
              "      </button>\n",
              "      \n",
              "  <style>\n",
              "    .colab-df-container {\n",
              "      display:flex;\n",
              "      flex-wrap:wrap;\n",
              "      gap: 12px;\n",
              "    }\n",
              "\n",
              "    .colab-df-convert {\n",
              "      background-color: #E8F0FE;\n",
              "      border: none;\n",
              "      border-radius: 50%;\n",
              "      cursor: pointer;\n",
              "      display: none;\n",
              "      fill: #1967D2;\n",
              "      height: 32px;\n",
              "      padding: 0 0 0 0;\n",
              "      width: 32px;\n",
              "    }\n",
              "\n",
              "    .colab-df-convert:hover {\n",
              "      background-color: #E2EBFA;\n",
              "      box-shadow: 0px 1px 2px rgba(60, 64, 67, 0.3), 0px 1px 3px 1px rgba(60, 64, 67, 0.15);\n",
              "      fill: #174EA6;\n",
              "    }\n",
              "\n",
              "    [theme=dark] .colab-df-convert {\n",
              "      background-color: #3B4455;\n",
              "      fill: #D2E3FC;\n",
              "    }\n",
              "\n",
              "    [theme=dark] .colab-df-convert:hover {\n",
              "      background-color: #434B5C;\n",
              "      box-shadow: 0px 1px 3px 1px rgba(0, 0, 0, 0.15);\n",
              "      filter: drop-shadow(0px 1px 2px rgba(0, 0, 0, 0.3));\n",
              "      fill: #FFFFFF;\n",
              "    }\n",
              "  </style>\n",
              "\n",
              "      <script>\n",
              "        const buttonEl =\n",
              "          document.querySelector('#df-2bf7d4f9-4a76-4829-9f8e-f22f53e6d443 button.colab-df-convert');\n",
              "        buttonEl.style.display =\n",
              "          google.colab.kernel.accessAllowed ? 'block' : 'none';\n",
              "\n",
              "        async function convertToInteractive(key) {\n",
              "          const element = document.querySelector('#df-2bf7d4f9-4a76-4829-9f8e-f22f53e6d443');\n",
              "          const dataTable =\n",
              "            await google.colab.kernel.invokeFunction('convertToInteractive',\n",
              "                                                     [key], {});\n",
              "          if (!dataTable) return;\n",
              "\n",
              "          const docLinkHtml = 'Like what you see? Visit the ' +\n",
              "            '<a target=\"_blank\" href=https://colab.research.google.com/notebooks/data_table.ipynb>data table notebook</a>'\n",
              "            + ' to learn more about interactive tables.';\n",
              "          element.innerHTML = '';\n",
              "          dataTable['output_type'] = 'display_data';\n",
              "          await google.colab.output.renderOutput(dataTable, element);\n",
              "          const docLink = document.createElement('div');\n",
              "          docLink.innerHTML = docLinkHtml;\n",
              "          element.appendChild(docLink);\n",
              "        }\n",
              "      </script>\n",
              "    </div>\n",
              "  </div>\n",
              "  "
            ]
          },
          "metadata": {},
          "execution_count": 51
        }
      ]
    },
    {
      "cell_type": "code",
      "source": [
        "print(\"Maximum amount transferred in a single transaction:\", max_amount_transferred)"
      ],
      "metadata": {
        "colab": {
          "base_uri": "https://localhost:8080/"
        },
        "id": "JTnSAzSh3GST",
        "outputId": "2d9ff4f5-9512-4b30-bb9a-e4d053022250"
      },
      "execution_count": null,
      "outputs": [
        {
          "output_type": "stream",
          "name": "stdout",
          "text": [
            "Maximum amount transferred in a single transaction:             nameOrig     nameDest      amount\n",
            "3760283  C1214015158  C2110157840  10000000.0\n"
          ]
        }
      ]
    },
    {
      "cell_type": "code",
      "source": [
        "# num_fraudulent_max = df[df['amount'] == max_amount_transferred]\n",
        "# num_fraudulent_max"
      ],
      "metadata": {
        "id": "q3tqo-Yc2_r0"
      },
      "execution_count": null,
      "outputs": []
    },
    {
      "cell_type": "code",
      "source": [
        "# print(\"Number of transactions flagged as fraudulent with maximum amount:\", num_fraudulent_max)"
      ],
      "metadata": {
        "id": "Fp-8UtRj3Izj"
      },
      "execution_count": null,
      "outputs": []
    },
    {
      "cell_type": "markdown",
      "source": [
        "##Q3. How many customers initiated transactions that were flagged as fraudulent?"
      ],
      "metadata": {
        "id": "6aibT82HQqvO"
      }
    },
    {
      "cell_type": "markdown",
      "source": [
        "####USING SPARK-SQL"
      ],
      "metadata": {
        "id": "mQJkcLPWQnco"
      }
    },
    {
      "cell_type": "code",
      "source": [
        "# 2. How many customers initiated transactions that were flagged as fraudulent?\n",
        "q2=spark.sql('select count(origin) as flaged_fraud from online_fraud where isfraud=1')\n",
        "q2.show()"
      ],
      "metadata": {
        "colab": {
          "base_uri": "https://localhost:8080/"
        },
        "id": "O42xPHDfIACY",
        "outputId": "240bbf02-8432-481f-836b-b1be168db535"
      },
      "execution_count": null,
      "outputs": [
        {
          "output_type": "stream",
          "name": "stdout",
          "text": [
            "+------------+\n",
            "|flaged_fraud|\n",
            "+------------+\n",
            "|        8213|\n",
            "+------------+\n",
            "\n"
          ]
        }
      ]
    },
    {
      "cell_type": "markdown",
      "source": [
        "####USING PYSPARK"
      ],
      "metadata": {
        "id": "rs9UN5siQjPa"
      }
    },
    {
      "cell_type": "code",
      "source": [
        "fraud_rdd= transactions.filter(lambda x: x[9] == '1')"
      ],
      "metadata": {
        "id": "IbVg_GQPHdXh"
      },
      "execution_count": null,
      "outputs": []
    },
    {
      "cell_type": "code",
      "source": [
        "customer_count = fraud_rdd.map(lambda x: x[3]).distinct().count()\n",
        "customer_count"
      ],
      "metadata": {
        "id": "ZodfFwQazGUN",
        "colab": {
          "base_uri": "https://localhost:8080/"
        },
        "outputId": "8ae0c7f5-ea0a-4d6c-aab4-12d9d59bcb71"
      },
      "execution_count": null,
      "outputs": [
        {
          "output_type": "execute_result",
          "data": {
            "text/plain": [
              "8213"
            ]
          },
          "metadata": {},
          "execution_count": 57
        }
      ]
    },
    {
      "cell_type": "code",
      "source": [
        "print(\"Number of customers who initiated fraudulent transactions:\", customer_count)"
      ],
      "metadata": {
        "colab": {
          "base_uri": "https://localhost:8080/"
        },
        "id": "JGx25M7bzN-W",
        "outputId": "3beded75-9ebb-4873-ee56-ba651791a139"
      },
      "execution_count": null,
      "outputs": [
        {
          "output_type": "stream",
          "name": "stdout",
          "text": [
            "Number of customers who initiated fraudulent transactions: 8213\n"
          ]
        }
      ]
    },
    {
      "cell_type": "markdown",
      "source": [
        "####USING PANDAS"
      ],
      "metadata": {
        "id": "JDvt_krxQcXL"
      }
    },
    {
      "cell_type": "code",
      "source": [
        "fraud_transactions_by_customer = df[df['isFraud'] == 1].groupby('nameOrig')['isFraud'].count()\n",
        "fraud_transactions_by_customer"
      ],
      "metadata": {
        "id": "GRmwGl5lPnfV",
        "colab": {
          "base_uri": "https://localhost:8080/"
        },
        "outputId": "0f7a2c18-73c2-4853-e90f-90f1367ee035"
      },
      "execution_count": null,
      "outputs": [
        {
          "output_type": "execute_result",
          "data": {
            "text/plain": [
              "nameOrig\n",
              "C1000036340    1\n",
              "C1000086512    1\n",
              "C1000331499    1\n",
              "C1000484178    1\n",
              "C1000513158    1\n",
              "              ..\n",
              "C998715487     1\n",
              "C998785780     1\n",
              "C998822926     1\n",
              "C999561448     1\n",
              "C99979309      1\n",
              "Name: isFraud, Length: 8213, dtype: int64"
            ]
          },
          "metadata": {},
          "execution_count": 59
        }
      ]
    },
    {
      "cell_type": "code",
      "source": [
        "num_fraud_customers =len(fraud_transactions_by_customer)\n",
        "num_fraud_customers"
      ],
      "metadata": {
        "colab": {
          "base_uri": "https://localhost:8080/"
        },
        "id": "aNk1r8TRP_AS",
        "outputId": "a9259057-38f2-4aec-dcb1-33a359a45b19"
      },
      "execution_count": null,
      "outputs": [
        {
          "output_type": "execute_result",
          "data": {
            "text/plain": [
              "8213"
            ]
          },
          "metadata": {},
          "execution_count": 60
        }
      ]
    },
    {
      "cell_type": "markdown",
      "source": [
        "##Q4. What is the total amount of money lost due to fraudulent activity?"
      ],
      "metadata": {
        "id": "uOP1PGmbQ4pw"
      }
    },
    {
      "cell_type": "markdown",
      "source": [
        "####USING SPARK-SQL"
      ],
      "metadata": {
        "id": "0MpCWPfiRnQI"
      }
    },
    {
      "cell_type": "code",
      "source": [
        "\n",
        "q3=spark.sql('SELECT SUM(amount) as total_lost FROM online_fraud WHERE isFraud = 1') #1 lakh 20 thousand crore\n",
        "q3.show()"
      ],
      "metadata": {
        "id": "dL1_vxjs5Lwn",
        "colab": {
          "base_uri": "https://localhost:8080/"
        },
        "outputId": "db84fedc-7541-4795-fba6-2d7d2ebc9bec"
      },
      "execution_count": null,
      "outputs": [
        {
          "output_type": "stream",
          "name": "stdout",
          "text": [
            "+-----------------+\n",
            "|       total_lost|\n",
            "+-----------------+\n",
            "|1.205641542784E10|\n",
            "+-----------------+\n",
            "\n"
          ]
        }
      ]
    },
    {
      "cell_type": "markdown",
      "source": [
        "####USING PYSPARK"
      ],
      "metadata": {
        "id": "-3CcVg0ERt5e"
      }
    },
    {
      "cell_type": "code",
      "source": [
        "fraud_rdd = rdd.filter(lambda row: row[9] == 1)"
      ],
      "metadata": {
        "id": "ThpWkmaH56TL"
      },
      "execution_count": null,
      "outputs": []
    },
    {
      "cell_type": "code",
      "source": [
        "amount_rdd = fraud_rdd.map(lambda row: row[2])"
      ],
      "metadata": {
        "id": "oZEqLHUC6Bq3"
      },
      "execution_count": null,
      "outputs": []
    },
    {
      "cell_type": "code",
      "source": [
        "total_amount = amount_rdd.sum()"
      ],
      "metadata": {
        "id": "ympGtgGw6IWe"
      },
      "execution_count": null,
      "outputs": []
    },
    {
      "cell_type": "code",
      "source": [
        "total_amount"
      ],
      "metadata": {
        "colab": {
          "base_uri": "https://localhost:8080/"
        },
        "id": "Ri6GCgIY-UBQ",
        "outputId": "fc91b444-52c5-4c7d-ac02-3993063c0858"
      },
      "execution_count": null,
      "outputs": [
        {
          "output_type": "execute_result",
          "data": {
            "text/plain": [
              "12056415427.839998"
            ]
          },
          "metadata": {},
          "execution_count": 65
        }
      ]
    },
    {
      "cell_type": "markdown",
      "source": [
        "####USING PANDAS"
      ],
      "metadata": {
        "id": "YGipQx0bSf3j"
      }
    },
    {
      "cell_type": "code",
      "source": [
        "# Filter the DataFrame to keep only the rows where isFraud is equal to 1\n",
        "fraud_df = df[df['isFraud'] == 1]"
      ],
      "metadata": {
        "id": "5NpAHRu7TwjK"
      },
      "execution_count": null,
      "outputs": []
    },
    {
      "cell_type": "code",
      "source": [
        "# Select the amount column from the resulting DataFrame\n",
        "amount_series = fraud_df['amount']"
      ],
      "metadata": {
        "id": "YpEtwKdET9ZC"
      },
      "execution_count": null,
      "outputs": []
    },
    {
      "cell_type": "code",
      "source": [
        "# Calculate the total amount\n",
        "total_amount = amount_series.sum()\n",
        "print(\"Total amount of money lost due to fraudulent activity: \", total_amount)"
      ],
      "metadata": {
        "colab": {
          "base_uri": "https://localhost:8080/"
        },
        "id": "QWeZKkEbUJtw",
        "outputId": "0ecdf42e-c3a7-46bf-964a-dc4fe33a1ca0"
      },
      "execution_count": null,
      "outputs": [
        {
          "output_type": "stream",
          "name": "stdout",
          "text": [
            "Total amount of money lost due to fraudulent activity:  12056415427.839998\n"
          ]
        }
      ]
    },
    {
      "cell_type": "markdown",
      "source": [
        "##Q 5.Which type of transaction has the highest percentage of fraudulent activity?"
      ],
      "metadata": {
        "id": "QicqG1qYSMrQ"
      }
    },
    {
      "cell_type": "markdown",
      "source": [
        "####USING SPARK-SQL"
      ],
      "metadata": {
        "id": "kN440ZsSSSsh"
      }
    },
    {
      "cell_type": "code",
      "source": [
        "\n",
        "q4=spark.sql('SELECT type, COUNT(*) as num_transactions, COUNT(CASE WHEN isFraud = 1 THEN 1 END) as num_fraudulent_transactions, (COUNT(CASE WHEN isFraud = 1 THEN 1 END) / COUNT(*))*100 as fraud_percentage FROM online_fraud GROUP BY type ORDER BY fraud_percentage DESC ;')\n",
        "q4.show()"
      ],
      "metadata": {
        "id": "ZFPNmBRM5Lt4",
        "colab": {
          "base_uri": "https://localhost:8080/"
        },
        "outputId": "02ce2a4e-5127-48d8-bd90-4c662a7f4606"
      },
      "execution_count": null,
      "outputs": [
        {
          "output_type": "stream",
          "name": "stdout",
          "text": [
            "+--------+----------------+---------------------------+-------------------+\n",
            "|    type|num_transactions|num_fraudulent_transactions|   fraud_percentage|\n",
            "+--------+----------------+---------------------------+-------------------+\n",
            "|TRANSFER|          532909|                       4097| 0.7687991758442811|\n",
            "|CASH_OUT|         2237500|                       4116|0.18395530726256984|\n",
            "| CASH_IN|         1399284|                          0|                0.0|\n",
            "| PAYMENT|         2151495|                          0|                0.0|\n",
            "|   DEBIT|           41432|                          0|                0.0|\n",
            "+--------+----------------+---------------------------+-------------------+\n",
            "\n"
          ]
        }
      ]
    },
    {
      "cell_type": "markdown",
      "source": [
        "####USING PYSPARK"
      ],
      "metadata": {
        "id": "GV6kiHRPSYUE"
      }
    },
    {
      "cell_type": "code",
      "source": [
        "grouped_rdd = rdd.map(lambda row: (row[1], (row[9], 1)))"
      ],
      "metadata": {
        "id": "70WGLwGsLslW"
      },
      "execution_count": null,
      "outputs": []
    },
    {
      "cell_type": "code",
      "source": [
        "fraud_counts = grouped_rdd.reduceByKey(lambda x, y: (x[0]+y[0], x[1]+y[1]))"
      ],
      "metadata": {
        "id": "esMW39RWNVhp"
      },
      "execution_count": null,
      "outputs": []
    },
    {
      "cell_type": "code",
      "source": [
        "fraud_percentages = fraud_counts.mapValues(lambda x: (x[0] / x[1]) * 100)"
      ],
      "metadata": {
        "id": "beTardnjNaAp"
      },
      "execution_count": null,
      "outputs": []
    },
    {
      "cell_type": "code",
      "source": [
        "max_fraud_type = fraud_percentages.max(lambda x: x[1])"
      ],
      "metadata": {
        "id": "1aBVGdiGNfZO"
      },
      "execution_count": null,
      "outputs": []
    },
    {
      "cell_type": "code",
      "source": [
        "max_fraud_type"
      ],
      "metadata": {
        "colab": {
          "base_uri": "https://localhost:8080/"
        },
        "id": "f9dkhC_MNhQw",
        "outputId": "104d3dfc-6e1a-4b51-de04-e8763e96f495"
      },
      "execution_count": null,
      "outputs": [
        {
          "output_type": "execute_result",
          "data": {
            "text/plain": [
              "('TRANSFER', 0.7687991758442811)"
            ]
          },
          "metadata": {},
          "execution_count": 74
        }
      ]
    },
    {
      "cell_type": "markdown",
      "source": [
        "####USING PANDAS"
      ],
      "metadata": {
        "id": "AVelAmuRSbrw"
      }
    },
    {
      "cell_type": "code",
      "source": [
        "# Group the DataFrame by the type column and calculate the total count of transactions and the count of fraudulent transactions for each type\n",
        "grouped_df = df.groupby('type')['isFraud'].agg(['count', 'sum'])"
      ],
      "metadata": {
        "id": "22hoEXG5UvR3"
      },
      "execution_count": null,
      "outputs": []
    },
    {
      "cell_type": "code",
      "source": [
        "# Calculate the percentage of fraudulent transactions for each transaction type\n",
        "grouped_df['fraud_percentage'] = (grouped_df['sum'] / grouped_df['count']) * 100\n",
        "grouped_df['fraud_percentage']"
      ],
      "metadata": {
        "colab": {
          "base_uri": "https://localhost:8080/"
        },
        "id": "5xKAgG4CUxh7",
        "outputId": "e4290747-32de-4211-9720-480d59d29e30"
      },
      "execution_count": null,
      "outputs": [
        {
          "output_type": "execute_result",
          "data": {
            "text/plain": [
              "type\n",
              "CASH_IN     0.000000\n",
              "CASH_OUT    0.183955\n",
              "DEBIT       0.000000\n",
              "PAYMENT     0.000000\n",
              "TRANSFER    0.768799\n",
              "Name: fraud_percentage, dtype: float64"
            ]
          },
          "metadata": {},
          "execution_count": 76
        }
      ]
    },
    {
      "cell_type": "code",
      "source": [
        "# Find the transaction type with the highest percentage of fraudulent transactions\n",
        "max_fraud_type = grouped_df['fraud_percentage'].idxmax()\n",
        "max_fraud_type"
      ],
      "metadata": {
        "colab": {
          "base_uri": "https://localhost:8080/"
        },
        "id": "N4kbEiC7U1QV",
        "outputId": "58391f05-c0bc-40c8-d7a3-078967864ab1"
      },
      "execution_count": null,
      "outputs": [
        {
          "output_type": "execute_result",
          "data": {
            "text/plain": [
              "'TRANSFER'"
            ],
            "application/vnd.google.colaboratory.intrinsic+json": {
              "type": "string"
            }
          },
          "metadata": {},
          "execution_count": 77
        }
      ]
    },
    {
      "cell_type": "markdown",
      "source": [
        "##Q 6. How many transactions involved customers with negative balances before the transaction?"
      ],
      "metadata": {
        "id": "cJ2eDazYSsLR"
      }
    },
    {
      "cell_type": "markdown",
      "source": [
        "####USING SPARK-SQL"
      ],
      "metadata": {
        "id": "A3Abj96sSxhA"
      }
    },
    {
      "cell_type": "code",
      "source": [
        "\n",
        "q5=spark.sql('SELECT COUNT(*) as num_transactions FROM online_fraud WHERE sender_old_balance < 0 OR receiver_old_balance < 0')\n",
        "q5.show()"
      ],
      "metadata": {
        "id": "3_SEfx505RkV",
        "colab": {
          "base_uri": "https://localhost:8080/"
        },
        "outputId": "410ce234-fe8e-40df-c112-6711da7081cf"
      },
      "execution_count": null,
      "outputs": [
        {
          "output_type": "stream",
          "name": "stdout",
          "text": [
            "+----------------+\n",
            "|num_transactions|\n",
            "+----------------+\n",
            "|               0|\n",
            "+----------------+\n",
            "\n"
          ]
        }
      ]
    },
    {
      "cell_type": "markdown",
      "source": [
        "####USING PYSPARK"
      ],
      "metadata": {
        "id": "0CT9fD2PS2I4"
      }
    },
    {
      "cell_type": "code",
      "source": [
        "filtered_rdd = rdd.filter(lambda row: float(row[4]) < 0 or float(row[7]) < 0)\n",
        "\n",
        "# Count the number of rows\n",
        "num_transactions = filtered_rdd.count()\n",
        "print(num_transactions)"
      ],
      "metadata": {
        "id": "6PXKhtbJGyxk",
        "colab": {
          "base_uri": "https://localhost:8080/"
        },
        "outputId": "c8584ae7-569a-46a5-95ca-9ce3eb1deec4"
      },
      "execution_count": null,
      "outputs": [
        {
          "output_type": "stream",
          "name": "stdout",
          "text": [
            "0\n"
          ]
        }
      ]
    },
    {
      "cell_type": "markdown",
      "source": [
        "####USING PANDAS"
      ],
      "metadata": {
        "id": "J69onZc9S7Of"
      }
    },
    {
      "cell_type": "code",
      "source": [
        "# Filter the DataFrame to keep only the rows where the oldbalanceOrg column is negative\n",
        "negative_bal_df = df[df['oldbalanceOrg'] < 0]"
      ],
      "metadata": {
        "id": "a7N0ojPZYDbO"
      },
      "execution_count": null,
      "outputs": []
    },
    {
      "cell_type": "code",
      "source": [
        "# Select the nameOrig column from the resulting DataFrame and get a list of unique customer names\n",
        "unique_customers = negative_bal_df['nameOrig'].unique()"
      ],
      "metadata": {
        "id": "jfRylb7KcoQh"
      },
      "execution_count": null,
      "outputs": []
    },
    {
      "cell_type": "code",
      "source": [
        "# Filter the original DataFrame again to keep only the rows where the nameOrig column is in the list of unique customer names\n",
        "negative_bal_transactions_df = df[df['nameOrig'].isin(unique_customers)]"
      ],
      "metadata": {
        "id": "CQ_Y__-Vct6R"
      },
      "execution_count": null,
      "outputs": []
    },
    {
      "cell_type": "code",
      "source": [
        "# Calculate the total count of transactions\n",
        "total_count = negative_bal_transactions_df.shape[0]\n",
        "\n",
        "print(\"Number of transactions involving customers with negative balances before the transaction: \", total_count)"
      ],
      "metadata": {
        "colab": {
          "base_uri": "https://localhost:8080/"
        },
        "id": "keUT-NefcxLB",
        "outputId": "654b38fa-e029-43ec-e7d1-43404b51bbb8"
      },
      "execution_count": null,
      "outputs": [
        {
          "output_type": "stream",
          "name": "stdout",
          "text": [
            "Number of transactions involving customers with negative balances before the transaction:  0\n"
          ]
        }
      ]
    },
    {
      "cell_type": "markdown",
      "source": [
        "##Q 7. What is the maximum amount of money transferred in a single transaction that was not flagged as fraudulent?"
      ],
      "metadata": {
        "id": "YssCCKW_yLcK"
      }
    },
    {
      "cell_type": "markdown",
      "source": [
        "####USING SPARK-SQL"
      ],
      "metadata": {
        "id": "cG5K8yBb2lj-"
      }
    },
    {
      "cell_type": "code",
      "source": [
        "q8=spark.sql(\"SELECT MAX(amount) AS max_amount FROM online_fraud WHERE isFraud = 0\")\n",
        "q8.show()"
      ],
      "metadata": {
        "colab": {
          "base_uri": "https://localhost:8080/"
        },
        "id": "2fqx9DZwCXyZ",
        "outputId": "5e7be5c2-de27-4397-b74a-55fd2ae1e683"
      },
      "execution_count": null,
      "outputs": [
        {
          "output_type": "stream",
          "name": "stdout",
          "text": [
            "+-------------+\n",
            "|   max_amount|\n",
            "+-------------+\n",
            "|9.244551664E7|\n",
            "+-------------+\n",
            "\n"
          ]
        }
      ]
    },
    {
      "cell_type": "markdown",
      "source": [
        "####USING Pandas"
      ],
      "metadata": {
        "id": "axy3RVEY2pHr"
      }
    },
    {
      "cell_type": "code",
      "source": [
        "max_amount = df.loc[df['isFraud'] == 0, 'amount'].max()\n",
        "\n",
        "print(max_amount)"
      ],
      "metadata": {
        "colab": {
          "base_uri": "https://localhost:8080/"
        },
        "id": "Pdt4mfUoHiC4",
        "outputId": "29541456-4167-449e-f6f9-3bc3da308d57"
      },
      "execution_count": null,
      "outputs": [
        {
          "output_type": "stream",
          "name": "stdout",
          "text": [
            "92445516.64\n"
          ]
        }
      ]
    },
    {
      "cell_type": "markdown",
      "source": [
        "####USING SPARK-RDD"
      ],
      "metadata": {
        "id": "svWMHcuO2t98"
      }
    },
    {
      "cell_type": "code",
      "source": [
        "max_amount = rdd.filter(lambda row: int(row[9]) == 0).map(lambda row: float(row[2])).max()\n",
        "print(max_amount)"
      ],
      "metadata": {
        "colab": {
          "base_uri": "https://localhost:8080/"
        },
        "id": "DxHKgtmTvmFX",
        "outputId": "c0112756-11f6-4912-a2cc-7118b23812f7"
      },
      "execution_count": null,
      "outputs": [
        {
          "output_type": "stream",
          "name": "stdout",
          "text": [
            "92445516.64\n"
          ]
        }
      ]
    },
    {
      "cell_type": "markdown",
      "source": [
        "## Q8. How many transactions were processed in each step?"
      ],
      "metadata": {
        "id": "gJs4CJ4D6_K9"
      }
    },
    {
      "cell_type": "markdown",
      "source": [
        "####SparkSql"
      ],
      "metadata": {
        "id": "X2148dDeC5ao"
      }
    },
    {
      "cell_type": "code",
      "source": [
        "q9=spark.sql(\"SELECT step, COUNT(*) AS num_transaction FROM online_fraud GROUP BY step order by count(*) desc\")\n",
        "q9.show(20)"
      ],
      "metadata": {
        "colab": {
          "base_uri": "https://localhost:8080/"
        },
        "id": "KZcn6F5ICgKg",
        "outputId": "84d4549c-576c-4507-cc9d-a3cab9d82992"
      },
      "execution_count": null,
      "outputs": [
        {
          "output_type": "stream",
          "name": "stdout",
          "text": [
            "+----+---------------+\n",
            "|step|num_transaction|\n",
            "+----+---------------+\n",
            "|  19|          51352|\n",
            "|  18|          49579|\n",
            "| 187|          49083|\n",
            "| 235|          47491|\n",
            "| 307|          46968|\n",
            "| 163|          46352|\n",
            "| 139|          46054|\n",
            "| 403|          45155|\n",
            "|  43|          45060|\n",
            "| 355|          44787|\n",
            "|  15|          44609|\n",
            "| 186|          43747|\n",
            "| 306|          43615|\n",
            "|  17|          43361|\n",
            "| 259|          43328|\n",
            "|  16|          42471|\n",
            "| 379|          41759|\n",
            "|  14|          41485|\n",
            "|  42|          41304|\n",
            "| 354|          40696|\n",
            "+----+---------------+\n",
            "only showing top 20 rows\n",
            "\n"
          ]
        }
      ]
    },
    {
      "cell_type": "markdown",
      "source": [
        "####Using Pandas"
      ],
      "metadata": {
        "id": "elPcqGBOHvE0"
      }
    },
    {
      "cell_type": "code",
      "source": [
        "#SOLUTION BY PANDAS DATAFRAME\n",
        "step_counts = df.groupby('step')['step'].count().reset_index(name='num_transaction').sort_values(by=['num_transaction'], ascending=False)\n",
        "\n",
        "print(step_counts.head(20))"
      ],
      "metadata": {
        "colab": {
          "base_uri": "https://localhost:8080/"
        },
        "id": "lhe3qGy3IO74",
        "outputId": "b0b817ab-8cab-42ca-8a16-b92b64a2e95c"
      },
      "execution_count": null,
      "outputs": [
        {
          "output_type": "stream",
          "name": "stdout",
          "text": [
            "     step  num_transaction\n",
            "18     19            51352\n",
            "17     18            49579\n",
            "186   187            49083\n",
            "234   235            47491\n",
            "306   307            46968\n",
            "162   163            46352\n",
            "138   139            46054\n",
            "402   403            45155\n",
            "42     43            45060\n",
            "354   355            44787\n",
            "14     15            44609\n",
            "185   186            43747\n",
            "305   306            43615\n",
            "16     17            43361\n",
            "258   259            43328\n",
            "15     16            42471\n",
            "378   379            41759\n",
            "13     14            41485\n",
            "41     42            41304\n",
            "353   354            40696\n"
          ]
        }
      ]
    },
    {
      "cell_type": "markdown",
      "source": [
        "####Using RDD"
      ],
      "metadata": {
        "id": "MgbPUWFRTvJg"
      }
    },
    {
      "cell_type": "code",
      "source": [
        " # Create an RDD with (step, 1) tuples\n",
        "step_rdd = rdd.map(lambda row: (int(row[0]), 1))\n",
        "\n",
        "# Group the RDD by step and count the number of transactions for each step\n",
        "step_counts_rdd = step_rdd.reduceByKey(lambda x, y: x + y)\n",
        "\n",
        "# Sort the RDD by the number of transactions in descending order\n",
        "step_counts_rdd = step_counts_rdd.map(lambda x: (x[1], x[0])).sortByKey(False)\n",
        "\n",
        "# Take the top 20 steps with the highest number of transactions\n",
        "step_counts = step_counts_rdd.take(20)\n",
        "\n",
        "# Print the result\n",
        "print(step_counts)"
      ],
      "metadata": {
        "colab": {
          "base_uri": "https://localhost:8080/"
        },
        "id": "_1j9t_8wT6Mt",
        "outputId": "f600d86d-e188-4fe6-efbe-415ea92f0887"
      },
      "execution_count": null,
      "outputs": [
        {
          "output_type": "stream",
          "name": "stdout",
          "text": [
            "[(51352, 19), (49579, 18), (49083, 187), (47491, 235), (46968, 307), (46352, 163), (46054, 139), (45155, 403), (45060, 43), (44787, 355), (44609, 15), (43747, 186), (43615, 306), (43361, 17), (43328, 259), (42471, 16), (41759, 379), (41485, 14), (41304, 42), (40696, 354)]\n"
          ]
        }
      ]
    },
    {
      "cell_type": "markdown",
      "source": [
        "####Using Sparksql"
      ],
      "metadata": {
        "id": "pa8aVwDTDWbS"
      }
    },
    {
      "cell_type": "code",
      "source": [
        "q10=spark.sql(\"SELECT destination, COUNT(*) AS num_fraudulent FROM online_fraud WHERE isFraud = 1 GROUP BY destination ORDER BY num_fraudulent DESC LIMIT 1\")\n",
        "q10.show()"
      ],
      "metadata": {
        "colab": {
          "base_uri": "https://localhost:8080/"
        },
        "id": "zf1RNCLdDa0g",
        "outputId": "d9b14cb1-b0ae-40a5-857e-a73592de2bed"
      },
      "execution_count": null,
      "outputs": [
        {
          "output_type": "stream",
          "name": "stdout",
          "text": [
            "+-----------+--------------+\n",
            "|destination|num_fraudulent|\n",
            "+-----------+--------------+\n",
            "| C964377943|             2|\n",
            "+-----------+--------------+\n",
            "\n"
          ]
        }
      ]
    },
    {
      "cell_type": "markdown",
      "source": [
        "####Using Pandas"
      ],
      "metadata": {
        "id": "29M-4WVVIblE"
      }
    },
    {
      "cell_type": "code",
      "source": [
        "#SOLUTION BY PANDAS DATAFRAME\n",
        "fraudulent_destinations = df.loc[df['isFraud'] == 1].groupby('nameDest')['nameDest'].count().reset_index(name='num_fraudulent').sort_values(by=['num_fraudulent'], ascending=False)\n",
        "\n",
        "max_fraudulent_destination = fraudulent_destinations.iloc[0]\n",
        "\n",
        "print(max_fraudulent_destination)"
      ],
      "metadata": {
        "colab": {
          "base_uri": "https://localhost:8080/"
        },
        "id": "WfiZfVJBIefe",
        "outputId": "b93685f2-80ee-4c8f-f6e8-8dc4695ee09c"
      },
      "execution_count": null,
      "outputs": [
        {
          "output_type": "stream",
          "name": "stdout",
          "text": [
            "nameDest          C2020337583\n",
            "num_fraudulent              2\n",
            "Name: 4244, dtype: object\n"
          ]
        }
      ]
    },
    {
      "cell_type": "markdown",
      "source": [
        "####Using PYSPARK"
      ],
      "metadata": {
        "id": "kdLixgKCM9Tt"
      }
    },
    {
      "cell_type": "code",
      "source": [
        "# Filter the RDD to keep only the fraudulent transactions\n",
        "fraudulent_rdd = rdd.filter(lambda row: int(row[9]) == 1)\n",
        "\n",
        "# Group by the destination column and count the number of fraudulent transactions for each destination\n",
        "grouped_rdd = fraudulent_rdd.map(lambda row: (row[6], 1)).reduceByKey(lambda x, y: x + y)\n",
        "\n",
        "# Sort the results by the number of fraudulent transactions in descending order and take the first row\n",
        "result_rdd = grouped_rdd.sortBy(lambda x: x[1], ascending=False).take(1)\n",
        "\n",
        "# Print the result\n",
        "print(result_rdd)"
      ],
      "metadata": {
        "colab": {
          "base_uri": "https://localhost:8080/"
        },
        "id": "vAS52l3fNvjO",
        "outputId": "05d275fd-f9f3-4007-f9a0-a936cca7e39f"
      },
      "execution_count": null,
      "outputs": [
        {
          "output_type": "stream",
          "name": "stdout",
          "text": [
            "[('C1325541393', 2)]\n"
          ]
        }
      ]
    },
    {
      "cell_type": "markdown",
      "source": [
        "## Q9 .which account is credited with most amount in case of fraud?\n"
      ],
      "metadata": {
        "id": "QwLFNkQQ5o4W"
      }
    },
    {
      "cell_type": "markdown",
      "source": [
        "####Using Spark SQl"
      ],
      "metadata": {
        "id": "8LiVw5zgJ-DX"
      }
    },
    {
      "cell_type": "code",
      "source": [
        "q11=spark.sql(\"SELECT destination, sum(amount) AS num_fraudulent FROM online_fraud WHERE isFraud = 1 GROUP BY destination ORDER BY num_fraudulent DESC LIMIT 1\")\n",
        "q11.show()"
      ],
      "metadata": {
        "colab": {
          "base_uri": "https://localhost:8080/"
        },
        "id": "fVkEe3mT5ufL",
        "outputId": "e2612e0a-0083-4d34-9891-fecaf8eabbed"
      },
      "execution_count": null,
      "outputs": [
        {
          "output_type": "stream",
          "name": "stdout",
          "text": [
            "+-----------+--------------+\n",
            "|destination|num_fraudulent|\n",
            "+-----------+--------------+\n",
            "| C668046170| 1.016008868E7|\n",
            "+-----------+--------------+\n",
            "\n"
          ]
        }
      ]
    },
    {
      "cell_type": "markdown",
      "source": [
        "####Using RDD"
      ],
      "metadata": {
        "id": "5CmxbfupckaN"
      }
    },
    {
      "cell_type": "code",
      "source": [
        "# Filter the RDD to select only the fraudulent transactions\n",
        "fraudulent_rdd = rdd.filter(lambda row: int(row[9]) == 1)\n",
        "\n",
        "# Group the fraudulent transactions by destination and sum the amounts\n",
        "fraudulent_destinations_rdd = fraudulent_rdd.map(lambda row: (row[6], float(row[2])))\n",
        "fraudulent_amounts_by_destination_rdd = fraudulent_destinations_rdd.reduceByKey(lambda a, b: a + b)\n",
        "\n",
        "# Find the destination with the highest total fraudulent amount\n",
        "destination_with_highest_fraudulent_amount = fraudulent_amounts_by_destination_rdd.takeOrdered(1, lambda x: -x[1])\n",
        "\n",
        "# Print the result\n",
        "print(destination_with_highest_fraudulent_amount)"
      ],
      "metadata": {
        "id": "tzSC0F1CcZfL",
        "colab": {
          "base_uri": "https://localhost:8080/"
        },
        "outputId": "2a207eca-1dcf-4362-a766-44a731563ab2"
      },
      "execution_count": null,
      "outputs": [
        {
          "output_type": "stream",
          "name": "stdout",
          "text": [
            "[('C668046170', 10160088.68)]\n"
          ]
        }
      ]
    },
    {
      "cell_type": "markdown",
      "source": [
        "####Using Pandas"
      ],
      "metadata": {
        "id": "ri7X_a1bLTTy"
      }
    },
    {
      "cell_type": "code",
      "source": [
        "#SOLUTION BY PANDAS DATAFRAME\n",
        "fraudulent_destinations = df.loc[df['isFraud'] == 1].groupby('nameDest')['amount'].sum().reset_index(name='num_fraudulent').sort_values(by=['num_fraudulent'], ascending=False)\n",
        "\n",
        "max_fraudulent_destination = fraudulent_destinations.iloc[0]\n",
        "\n",
        "print(max_fraudulent_destination)"
      ],
      "metadata": {
        "colab": {
          "base_uri": "https://localhost:8080/"
        },
        "id": "hwel0KyYIk-h",
        "outputId": "11021782-ced5-41f1-e71a-29be9754c4c8"
      },
      "execution_count": null,
      "outputs": [
        {
          "output_type": "stream",
          "name": "stdout",
          "text": [
            "nameDest           C668046170\n",
            "num_fraudulent    10160088.68\n",
            "Name: 6773, dtype: object\n"
          ]
        }
      ]
    },
    {
      "cell_type": "markdown",
      "source": [
        "## Q10.top 10 destaccount which has maximum amount in case of fraud ?\n"
      ],
      "metadata": {
        "id": "OyBVn37C5w83"
      }
    },
    {
      "cell_type": "markdown",
      "source": [
        "####Using SparkSQL"
      ],
      "metadata": {
        "id": "ipsvZ1YJJv59"
      }
    },
    {
      "cell_type": "code",
      "source": [
        "q12=spark.sql(\"SELECT destination, sum(amount) AS num_fraudulent FROM online_fraud WHERE isFraud = 1 GROUP BY destination ORDER BY num_fraudulent DESC LIMIT 10\")\n",
        "q12.show()"
      ],
      "metadata": {
        "colab": {
          "base_uri": "https://localhost:8080/"
        },
        "id": "tIkzxskV53Eg",
        "outputId": "0a2b16d1-57a3-41a2-d1a2-1a5a01d3f4d8"
      },
      "execution_count": null,
      "outputs": [
        {
          "output_type": "stream",
          "name": "stdout",
          "text": [
            "+-----------+--------------+\n",
            "|destination|num_fraudulent|\n",
            "+-----------+--------------+\n",
            "| C668046170| 1.016008868E7|\n",
            "| C704752055|         1.0E7|\n",
            "| C242007270|         1.0E7|\n",
            "|C1622860679|         1.0E7|\n",
            "| C709815552|         1.0E7|\n",
            "|C1423246212|         1.0E7|\n",
            "|C1865083017|         1.0E7|\n",
            "|C1806199534|         1.0E7|\n",
            "|C1614528665|         1.0E7|\n",
            "|C2065262017|         1.0E7|\n",
            "+-----------+--------------+\n",
            "\n"
          ]
        }
      ]
    },
    {
      "cell_type": "markdown",
      "source": [
        "#### Using RDD"
      ],
      "metadata": {
        "id": "NMQPWokhc_Zw"
      }
    },
    {
      "cell_type": "code",
      "source": [
        "fraudulent_rdd = rdd.filter(lambda row: int(row[9]) == 1)\n",
        "\n",
        "# Group the fraudulent transactions by destination and sum the amounts\n",
        "fraudulent_destinations_rdd = fraudulent_rdd.map(lambda row: (row[6], float(row[2])))\n",
        "fraudulent_amounts_by_destination_rdd = fraudulent_destinations_rdd.reduceByKey(lambda a, b: a + b)\n",
        "\n",
        "# Sort the destinations by descending order of fraudulent amount and take the top 10\n",
        "top_10_fraudulent_destinations = fraudulent_amounts_by_destination_rdd.takeOrdered(10, lambda x: -x[1])\n",
        "\n",
        "# Print the result\n",
        "for dest, total_fraudulent_amount in top_10_fraudulent_destinations:\n",
        "    print(f\"{dest}: {total_fraudulent_amount}\")"
      ],
      "metadata": {
        "id": "iHLrknnCdFOR",
        "colab": {
          "base_uri": "https://localhost:8080/"
        },
        "outputId": "7844ac9f-befd-4bc0-a802-0a311ad07929"
      },
      "execution_count": null,
      "outputs": [
        {
          "output_type": "stream",
          "name": "stdout",
          "text": [
            "C668046170: 10160088.68\n",
            "C1917849910: 10000000.0\n",
            "C2055653883: 10000000.0\n",
            "C1853789265: 10000000.0\n",
            "C2029456603: 10000000.0\n",
            "C709815552: 10000000.0\n",
            "C120368346: 10000000.0\n",
            "C1036214683: 10000000.0\n",
            "C839316822: 10000000.0\n",
            "C606914329: 10000000.0\n"
          ]
        }
      ]
    },
    {
      "cell_type": "markdown",
      "source": [
        "####Using Pandas"
      ],
      "metadata": {
        "id": "aSMg3ojfJ2Cr"
      }
    },
    {
      "cell_type": "code",
      "source": [
        "Top_fraudulent_destinations = df.loc[df['isFraud'] == 1].groupby('nameDest')['amount'].sum().reset_index(name='num_fraudulent').sort_values(by=['num_fraudulent'], ascending=False)\n",
        "\n",
        "Top_10_fraudulent_destinations =Top_fraudulent_destinations.iloc[0:9]\n",
        "\n",
        "print(Top_10_fraudulent_destinations)"
      ],
      "metadata": {
        "id": "HRMSnLXEcgKW",
        "colab": {
          "base_uri": "https://localhost:8080/"
        },
        "outputId": "5026d16d-3eb6-47a9-b0b6-6d366c2389a2"
      },
      "execution_count": null,
      "outputs": [
        {
          "output_type": "stream",
          "name": "stdout",
          "text": [
            "         nameDest  num_fraudulent\n",
            "6773   C668046170     10160088.68\n",
            "2602  C1630566944     10000000.00\n",
            "6764   C666339947     10000000.00\n",
            "2436  C1590217660     10000000.00\n",
            "2453  C1595458981     10000000.00\n",
            "252   C1056895901     10000000.00\n",
            "6694   C650095152     10000000.00\n",
            "2539  C1614528665     10000000.00\n",
            "2570  C1622860679     10000000.00\n"
          ]
        }
      ]
    }
  ]
}